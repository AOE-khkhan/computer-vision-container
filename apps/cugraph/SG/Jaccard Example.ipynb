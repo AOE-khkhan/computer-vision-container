{
 "cells": [
  {
   "cell_type": "markdown",
   "metadata": {},
   "source": [
    "# Jaccard Similarity\n",
    "\n",
    "In this notebook, we will use cuGraph to compute the Jaccard similarity and run analytics on our training dataset\n",
    "\n",
    "Notebook Credits\n",
    "* Original Authors: Bradley Rees and James Wyles\n",
    "* Last Edit: 03/08/2019\n",
    "\n",
    "RAPIDS Versions: 0.6.0    \n",
    "\n",
    "Test Hardware\n",
    "\n",
    "* GP100 32G, CUDA 9,2\n",
    "\n",
    "\n",
    "\n",
    "## Introduction\n",
    "The Jaccard similarity between two sets is defined as the ratio of the volume of their intersection divided by the volume of their union. In the context of graphs, the volum of a vertex refers to the neighborhood of that vertex.<br>\n",
    "\n",
    "The neighbors of a vertex, v, is defined as the set, U, of vertices connected by way of an edge to vertex v, or N(v) = {U} where v ∈V and ∀ u∈U ∃ edge(v,u)∈E.\n",
    "\n",
    "\n",
    "The Jaccard can be defined as<br>\n",
    "\n",
    "$Jaccard(i, j) = \\frac{|(N(i)  \\cap  N(j)))|}{|(N(i)  \\cup  N(j))|}$\n",
    "<br>\n",
    "\n",
    "The Jaccard similarity weight of each edge represents the strength of connection between vertices based on the relative similarity of their neighbors. For further detail see [Wikipedia](https://en.wikipedia.org/wiki/Jaccard_index)\n",
    "\n",
    "To compute the Jaccard similarity between all-pairs of vertices connected by an edge in cuGraph use: \n",
    "**nvJaccard(G)**\n",
    "* __G__: A cugraph.Graph object\n",
    "\n",
    "Returns:\n",
    "* __df__: cudf.DataFrame with three names columns:\n",
    "    * df[\"source\"]: The source vertex id.\n",
    "    * df[\"destination\"]: The destination vertex id.\n",
    "    * df[\"jaccard_coeff\"]: The jaccard coefficient computed between the source and destination vertex.\n",
    "    \n",
    "    \n",
    "## cuGraph 0.6 Notice \n",
    "cuGraph version 0.6 has some limitations:\n",
    "* Only Int32 Vertex ID are supported\n",
    "* Only float (FP32) edge data is supported\n",
    "* Vertex numbering is assumed to start at zero\n",
    "\n",
    "These limitations are being addressed and will be fixed future versions.  \n",
    "These example notebooks will illustrate how to manipulate the data so that it comforms to the current limitations    \n",
    "    \n",
    "\n",
    "## References\n",
    "* https://research.nvidia.com/publication/2017-11_Parallel-Jaccard-and\n",
    "    "
   ]
  },
  {
   "cell_type": "markdown",
   "metadata": {},
   "source": [
    "### Test Data\n",
    "We will be using the Zachary Karate club dataset \n",
    "*W. W. Zachary, An information flow model for conflict and fission in small groups, Journal of\n",
    "Anthropological Research 33, 452-473 (1977).*\n",
    "\n",
    "\n",
    "![Karate Club](../img/zachary_black_lines.png)\n",
    "\n",
    "This is a small graph which allows for easy visual inspection to validate results.  "
   ]
  },
  {
   "cell_type": "code",
   "execution_count": null,
   "metadata": {},
   "outputs": [],
   "source": [
    "# Import needed libraries\n",
    "import cugraph\n",
    "import cudf\n",
    "from collections import OrderedDict"
   ]
  },
  {
   "cell_type": "code",
   "execution_count": null,
   "metadata": {},
   "outputs": [],
   "source": [
    "# define a function for printing the top most similar vertices\n",
    "def printMostSimilar(df):\n",
    "    bestEdge = 0\n",
    "    \n",
    "    #find the best\n",
    "    for i in range(len(df)):\n",
    "        if df['jaccard_coeff'][i] > df['jaccard_coeff'][bestEdge]:\n",
    "            bestEdge = i\n",
    "        \n",
    "    print(\"Vertices \" + str(df['source'][bestEdge]) + \" and \" + \n",
    "          str(df['destination'][bestEdge]) + \" are most similar with score: \" \n",
    "          + str(df['jaccard_coeff'][bestEdge]))"
   ]
  },
  {
   "cell_type": "code",
   "execution_count": null,
   "metadata": {},
   "outputs": [],
   "source": [
    "# define a function for printing similar vertices based on a threshold\n",
    "def print_gt_threshold(df, limit):\n",
    "    \n",
    "    for i in range(len(df)):\n",
    "        if df['jaccard_coeff'][i] > limit:\n",
    "            print(\"Vertices \" + str(df['source'][i]) + \" and \" + \n",
    "                  str(df['destination'][i]) + \" are similar with score: \" + \n",
    "                  str(df['jaccard_coeff'][i]))"
   ]
  },
  {
   "cell_type": "markdown",
   "metadata": {},
   "source": [
    "### Read the CSV datafile using cuDF"
   ]
  },
  {
   "cell_type": "code",
   "execution_count": null,
   "metadata": {},
   "outputs": [],
   "source": [
    "# Test file  \n",
    "datafile='../data/networks/karate-data.csv'\n",
    "\n",
    "# Read the data file\n",
    "cols = [\"src\", \"dst\"]\n",
    "\n",
    "dtypes = OrderedDict([\n",
    "        (\"src\", \"int32\"), \n",
    "        (\"dst\", \"int32\")\n",
    "        ])\n",
    "\n",
    "gdf = cudf.read_csv(datafile, names=cols, delimiter='\\t', dtype=list(dtypes.values()) )"
   ]
  },
  {
   "cell_type": "code",
   "execution_count": null,
   "metadata": {},
   "outputs": [],
   "source": [
    "# Let's look at the DataFrame. There should be two columns and 156 records\n",
    "gdf"
   ]
  },
  {
   "cell_type": "code",
   "execution_count": null,
   "metadata": {},
   "outputs": [],
   "source": [
    "# Look at the first few data records - the output should be two colums src and dst\n",
    "gdf.head().to_pandas()"
   ]
  },
  {
   "cell_type": "markdown",
   "metadata": {},
   "source": [
    "### Create a Graph and call the Jaccard analytic"
   ]
  },
  {
   "cell_type": "code",
   "execution_count": null,
   "metadata": {},
   "outputs": [],
   "source": [
    "# create a Graph \n",
    "G = cugraph.Graph()\n",
    "G.add_edge_list(gdf[\"src\"], gdf[\"dst\"])"
   ]
  },
  {
   "cell_type": "code",
   "execution_count": null,
   "metadata": {},
   "outputs": [],
   "source": [
    "# How many vertices are in the graph?  Remember that Graph is zero based while teh data start at vertex 1\n",
    "G.num_vertices()"
   ]
  },
  {
   "cell_type": "markdown",
   "metadata": {},
   "source": [
    "_The Jaccard test graph has only 34 vertices, so why is the Graph listing 35?_\n",
    "\n",
    "As mentioned above, cuGraph vertex numbering is zero-based, meaning that the first vertex ID starts at zero.  The test dataset is 1-based.  Because of that, the Graph object adds an extra isolated vertex with an ID of zero.  Hence the difference in vertex count.  \n",
    "The next version of cuGraph will add a function to address this issue.  "
   ]
  },
  {
   "cell_type": "code",
   "execution_count": null,
   "metadata": {},
   "outputs": [],
   "source": [
    "# Call cugraph.nvJaccard \n",
    "df = cugraph.nvJaccard(G)"
   ]
  },
  {
   "cell_type": "code",
   "execution_count": null,
   "metadata": {},
   "outputs": [],
   "source": [
    "printMostSimilar(df)"
   ]
  },
  {
   "cell_type": "markdown",
   "metadata": {},
   "source": [
    "The Most similar shoul be 33 and 34.\n",
    "Vertex 33 has 12 neighbors, vertex 34 has 17 neighbors.  They share 10 neighbors in common:\n",
    "$jaccard = 10 / (10 + (12 -10) + (17-10)) = 10 / 19 = 0.526$"
   ]
  },
  {
   "cell_type": "code",
   "execution_count": null,
   "metadata": {},
   "outputs": [],
   "source": [
    "print_gt_threshold(df, 0.4)"
   ]
  },
  {
   "cell_type": "code",
   "execution_count": null,
   "metadata": {},
   "outputs": [],
   "source": [
    "# Since it is a small graph we can print all scores.\n",
    "# Notice that only connected vertices are computed\n",
    "\n",
    "# let's sort the data first\n",
    "g = df.groupby(['jaccard_coeff'], method='cudf')\n"
   ]
  },
  {
   "cell_type": "code",
   "execution_count": null,
   "metadata": {},
   "outputs": [],
   "source": [
    "df_s = g.as_df()"
   ]
  },
  {
   "cell_type": "code",
   "execution_count": null,
   "metadata": {},
   "outputs": [],
   "source": [
    "# The groupby as_df function returns a tuple where the first item is the dataframe\n",
    "print_gt_threshold(df_s[0], 0.0)"
   ]
  },
  {
   "cell_type": "markdown",
   "metadata": {},
   "source": [
    "### Adjusting the vertex ID\n",
    "Let's adjust all the vertex IDs to be zero based.  We are going to do this by adding two new columns with the adjusted IDs"
   ]
  },
  {
   "cell_type": "code",
   "execution_count": null,
   "metadata": {},
   "outputs": [],
   "source": [
    "gdf[\"src_0\"] = gdf[\"src\"] - 1\n",
    "gdf[\"dst_0\"] = gdf[\"dst\"] - 1"
   ]
  },
  {
   "cell_type": "code",
   "execution_count": null,
   "metadata": {},
   "outputs": [],
   "source": [
    "# create a new Graph \n",
    "G2 = cugraph.Graph()\n",
    "G2.add_edge_list(gdf[\"src_0\"], gdf[\"dst_0\"])"
   ]
  },
  {
   "cell_type": "code",
   "execution_count": null,
   "metadata": {},
   "outputs": [],
   "source": [
    "# How many vertices are in the graph?  Remember that Graph is zero based while teh data start at vertex 1\n",
    "G2.num_vertices()"
   ]
  },
  {
   "cell_type": "markdown",
   "metadata": {},
   "source": [
    "The number of vertices mnow matches what is in the test graph"
   ]
  },
  {
   "cell_type": "code",
   "execution_count": null,
   "metadata": {},
   "outputs": [],
   "source": [
    "# Call cugraph.nvJaccard \n",
    "df2 = cugraph.nvJaccard(G2)"
   ]
  },
  {
   "cell_type": "code",
   "execution_count": null,
   "metadata": {},
   "outputs": [],
   "source": [
    "printMostSimilar(df2)"
   ]
  },
  {
   "cell_type": "markdown",
   "metadata": {},
   "source": [
    "Adjusting the vertices back yields 33 and 34 which matches the orginal results.\n",
    "For Jaccard, the fact that vertex IDs do not start of 0 is not an issue"
   ]
  },
  {
   "cell_type": "code",
   "execution_count": null,
   "metadata": {},
   "outputs": [],
   "source": []
  },
  {
   "cell_type": "markdown",
   "metadata": {},
   "source": [
    "___\n",
    "Copyright (c) 2019, NVIDIA CORPORATION.\n",
    "\n",
    "Licensed under the Apache License, Version 2.0 (the \"License\");  you may not use this file except in compliance with the License. You may obtain a copy of the License at http://www.apache.org/licenses/LICENSE-2.0\n",
    "\n",
    "Unless required by applicable law or agreed to in writing, software distributed under the License is distributed on an \"AS IS\" BASIS, WITHOUT WARRANTIES OR CONDITIONS OF ANY KIND, either express or implied. See the License for the specific language governing permissions and limitations under the License.\n",
    "___"
   ]
  },
  {
   "cell_type": "code",
   "execution_count": null,
   "metadata": {},
   "outputs": [],
   "source": []
  }
 ],
 "metadata": {
  "kernelspec": {
   "display_name": "Python 3",
   "language": "python",
   "name": "python3"
  },
  "language_info": {
   "codemirror_mode": {
    "name": "ipython",
    "version": 3
   },
   "file_extension": ".py",
   "mimetype": "text/x-python",
   "name": "python",
   "nbconvert_exporter": "python",
   "pygments_lexer": "ipython3",
   "version": "3.7.1"
  }
 },
 "nbformat": 4,
 "nbformat_minor": 2
}
